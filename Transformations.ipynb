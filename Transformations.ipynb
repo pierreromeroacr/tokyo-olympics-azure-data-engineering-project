{
 "cells": [
  {
   "cell_type": "code",
   "execution_count": 0,
   "metadata": {
    "application/vnd.databricks.v1+cell": {
     "cellMetadata": {
      "byteLimit": 2048000,
      "rowLimit": 10000
     },
     "inputWidgets": {},
     "nuid": "4398a7dc-7f33-47c3-a226-b79dda5324dd",
     "showTitle": false,
     "title": ""
    }
   },
   "outputs": [],
   "source": [
    "from pyspark.sql.functions import *\n",
    "from pyspark.sql.types import *"
   ]
  },
  {
   "cell_type": "code",
   "execution_count": 0,
   "metadata": {
    "application/vnd.databricks.v1+cell": {
     "cellMetadata": {
      "byteLimit": 2048000,
      "rowLimit": 10000
     },
     "inputWidgets": {},
     "nuid": "731e4711-84a2-4ff6-a236-ed3d3ae41cf5",
     "showTitle": false,
     "title": ""
    }
   },
   "outputs": [],
   "source": [
    "# Mapping the path of the directories\n",
    "bronze_path = '/mnt/tokyo-olympic-data/Bronze'\n",
    "silver_path = '/mnt/tokyo-olympic-data/Silver'"
   ]
  },
  {
   "cell_type": "code",
   "execution_count": 0,
   "metadata": {
    "application/vnd.databricks.v1+cell": {
     "cellMetadata": {
      "byteLimit": 2048000,
      "rowLimit": 10000
     },
     "inputWidgets": {},
     "nuid": "e311e802-de0f-41b7-b685-1a90edbb7f9c",
     "showTitle": false,
     "title": ""
    }
   },
   "outputs": [],
   "source": [
    "# Mapping file path\n",
    "ATHLETES_DATA = '/mnt/tokyo-olympic-data/Bronze/athletes.csv'\n",
    "COACHES_DATA = '/mnt/tokyo-olympic-data/Bronze/coaches.csv'\n",
    "ENTRIES_GENDER_DATA = '/mnt/tokyo-olympic-data/Bronze/entriesgender.csv'\n",
    "MEDALS_DATA = '/mnt/tokyo-olympic-data/Bronze/medals.csv'\n",
    "TEAMS_DATA = '/mnt/tokyo-olympic-data/Bronze/teams.csv'"
   ]
  },
  {
   "cell_type": "code",
   "execution_count": 0,
   "metadata": {
    "application/vnd.databricks.v1+cell": {
     "cellMetadata": {
      "byteLimit": 2048000,
      "rowLimit": 10000
     },
     "inputWidgets": {},
     "nuid": "94bba3e3-ffe4-41ba-9165-be7461ebaeb2",
     "showTitle": false,
     "title": ""
    }
   },
   "outputs": [],
   "source": [
    "# Load data\n",
    "athletes_df = spark.read.csv(path=ATHLETES_DATA, header=True, inferSchema=True, sep=',')\n",
    "coaches_df = spark.read.csv(path=COACHES_DATA, header=True, inferSchema=True, sep=',')\n",
    "entriesgender_df = spark.read.csv(path=ENTRIES_GENDER_DATA, header=True, inferSchema=True, sep=',')\n",
    "medals_df = spark.read.csv(path=MEDALS_DATA, header=True, inferSchema=True, sep=',')\n",
    "teams_df = spark.read.csv(path=TEAMS_DATA, header=True, inferSchema=True, sep=',')"
   ]
  },
  {
   "cell_type": "code",
   "execution_count": 0,
   "metadata": {
    "application/vnd.databricks.v1+cell": {
     "cellMetadata": {
      "byteLimit": 2048000,
      "rowLimit": 10000
     },
     "inputWidgets": {},
     "nuid": "565ba4f7-bec0-450e-aac4-bcfafcefb4af",
     "showTitle": false,
     "title": ""
    }
   },
   "outputs": [
    {
     "output_type": "stream",
     "name": "stdout",
     "output_type": "stream",
     "text": [
      "+-----------------+--------------------+-------------------+\n|       PersonName|             Country|         Discipline|\n+-----------------+--------------------+-------------------+\n|  AALERUD Katrine|              Norway|       Cycling Road|\n|      ABAD Nestor|               Spain|Artistic Gymnastics|\n|ABAGNALE Giovanni|               Italy|             Rowing|\n|   ABALDE Alberto|               Spain|         Basketball|\n|    ABALDE Tamara|               Spain|         Basketball|\n|        ABALO Luc|              France|           Handball|\n|     ABAROA Cesar|               Chile|             Rowing|\n|    ABASS Abobakr|               Sudan|           Swimming|\n| ABBASALI Hamideh|Islamic Republic ...|             Karate|\n|    ABBASOV Islam|          Azerbaijan|          Wrestling|\n+-----------------+--------------------+-------------------+\nonly showing top 10 rows\n\n"
     ]
    }
   ],
   "source": [
    "athletes_df.show(10)"
   ]
  },
  {
   "cell_type": "code",
   "execution_count": 0,
   "metadata": {
    "application/vnd.databricks.v1+cell": {
     "cellMetadata": {
      "byteLimit": 2048000,
      "rowLimit": 10000
     },
     "inputWidgets": {},
     "nuid": "76e9ce38-4f26-4314-b7ba-85b40d124d79",
     "showTitle": false,
     "title": ""
    }
   },
   "outputs": [
    {
     "output_type": "stream",
     "name": "stdout",
     "output_type": "stream",
     "text": [
      "+-----------------+--------------------+-------------------+\n|       Competitor|             Country|         Discipline|\n+-----------------+--------------------+-------------------+\n|  AALERUD Katrine|              Norway|       Cycling Road|\n|      ABAD Nestor|               Spain|Artistic Gymnastics|\n|ABAGNALE Giovanni|               Italy|             Rowing|\n|   ABALDE Alberto|               Spain|         Basketball|\n|    ABALDE Tamara|               Spain|         Basketball|\n|        ABALO Luc|              France|           Handball|\n|     ABAROA Cesar|               Chile|             Rowing|\n|    ABASS Abobakr|               Sudan|           Swimming|\n| ABBASALI Hamideh|Islamic Republic ...|             Karate|\n|    ABBASOV Islam|          Azerbaijan|          Wrestling|\n+-----------------+--------------------+-------------------+\nonly showing top 10 rows\n\n"
     ]
    }
   ],
   "source": [
    "# Change column name (PersonName)\n",
    "athletes_df = athletes_df.withColumnRenamed('PersonName', 'Competitor')\n",
    "athletes_df.show(10)"
   ]
  },
  {
   "cell_type": "code",
   "execution_count": 0,
   "metadata": {
    "application/vnd.databricks.v1+cell": {
     "cellMetadata": {
      "byteLimit": 2048000,
      "rowLimit": 10000
     },
     "inputWidgets": {},
     "nuid": "f42c4e6e-1310-4978-a5db-37f773ce137e",
     "showTitle": false,
     "title": ""
    }
   },
   "outputs": [
    {
     "output_type": "stream",
     "name": "stdout",
     "output_type": "stream",
     "text": [
      "root\n |-- Competitor: string (nullable = true)\n |-- Country: string (nullable = true)\n |-- Discipline: string (nullable = true)\n\n"
     ]
    }
   ],
   "source": [
    "athletes_df.printSchema()"
   ]
  },
  {
   "cell_type": "code",
   "execution_count": 0,
   "metadata": {
    "application/vnd.databricks.v1+cell": {
     "cellMetadata": {
      "byteLimit": 2048000,
      "rowLimit": 10000
     },
     "inputWidgets": {},
     "nuid": "e1ba4199-f6a1-493a-bb74-76489a566138",
     "showTitle": false,
     "title": ""
    }
   },
   "outputs": [
    {
     "output_type": "stream",
     "name": "stdout",
     "output_type": "stream",
     "text": [
      "+--------------------+--------------------+-----------------+--------+\n|                Name|             Country|       Discipline|   Event|\n+--------------------+--------------------+-----------------+--------+\n|     ABDELMAGID Wael|               Egypt|         Football|    null|\n|           ABE Junya|               Japan|       Volleyball|    null|\n|       ABE Katsuhiko|               Japan|       Basketball|    null|\n|        ADAMA Cherif|       C�te d'Ivoire|         Football|    null|\n|          AGEBA Yuya|               Japan|       Volleyball|    null|\n|AIKMAN Siegfried ...|               Japan|           Hockey|     Men|\n|       AL SAADI Kais|             Germany|           Hockey|     Men|\n|       ALAMEDA Lonni|              Canada|Baseball/Softball|Softball|\n|     ALEKNO Vladimir|Islamic Republic ...|       Volleyball|     Men|\n|     ALEKSEEV Alexey|                 ROC|         Handball|   Women|\n+--------------------+--------------------+-----------------+--------+\nonly showing top 10 rows\n\n"
     ]
    }
   ],
   "source": [
    "coaches_df.show(10)"
   ]
  },
  {
   "cell_type": "code",
   "execution_count": 0,
   "metadata": {
    "application/vnd.databricks.v1+cell": {
     "cellMetadata": {
      "byteLimit": 2048000,
      "rowLimit": 10000
     },
     "inputWidgets": {},
     "nuid": "b19af6e8-b549-48e6-b58d-d2495cf2efd4",
     "showTitle": false,
     "title": ""
    }
   },
   "outputs": [
    {
     "output_type": "stream",
     "name": "stdout",
     "output_type": "stream",
     "text": [
      "root\n |-- Name: string (nullable = true)\n |-- Country: string (nullable = true)\n |-- Discipline: string (nullable = true)\n |-- Event: string (nullable = true)\n\n"
     ]
    }
   ],
   "source": [
    "coaches_df.printSchema()"
   ]
  },
  {
   "cell_type": "code",
   "execution_count": 0,
   "metadata": {
    "application/vnd.databricks.v1+cell": {
     "cellMetadata": {
      "byteLimit": 2048000,
      "rowLimit": 10000
     },
     "inputWidgets": {},
     "nuid": "18a4879a-0b0c-476d-a9a3-15b9ae4afbc9",
     "showTitle": false,
     "title": ""
    }
   },
   "outputs": [
    {
     "output_type": "stream",
     "name": "stdout",
     "output_type": "stream",
     "text": [
      "+-------------------+------+----+-----+\n|         Discipline|Female|Male|Total|\n+-------------------+------+----+-----+\n|     3x3 Basketball|    32|  32|   64|\n|            Archery|    64|  64|  128|\n|Artistic Gymnastics|    98|  98|  196|\n|  Artistic Swimming|   105|   0|  105|\n|          Athletics|   969|1072| 2041|\n|          Badminton|    86|  87|  173|\n|  Baseball/Softball|    90| 144|  234|\n|         Basketball|   144| 144|  288|\n|   Beach Volleyball|    48|  48|   96|\n|             Boxing|   102| 187|  289|\n+-------------------+------+----+-----+\nonly showing top 10 rows\n\n"
     ]
    }
   ],
   "source": [
    "entriesgender_df.show(10)"
   ]
  },
  {
   "cell_type": "code",
   "execution_count": 0,
   "metadata": {
    "application/vnd.databricks.v1+cell": {
     "cellMetadata": {
      "byteLimit": 2048000,
      "rowLimit": 10000
     },
     "inputWidgets": {},
     "nuid": "96d89666-27a6-429f-a78c-fd46b960c0a4",
     "showTitle": false,
     "title": ""
    }
   },
   "outputs": [
    {
     "output_type": "stream",
     "name": "stdout",
     "output_type": "stream",
     "text": [
      "root\n |-- Discipline: string (nullable = true)\n |-- Female: integer (nullable = true)\n |-- Male: integer (nullable = true)\n |-- Total: integer (nullable = true)\n\n"
     ]
    }
   ],
   "source": [
    "entriesgender_df.printSchema()"
   ]
  },
  {
   "cell_type": "code",
   "execution_count": 0,
   "metadata": {
    "application/vnd.databricks.v1+cell": {
     "cellMetadata": {
      "byteLimit": 2048000,
      "rowLimit": 10000
     },
     "inputWidgets": {},
     "nuid": "e9ff4993-5403-469a-a165-393b931407bf",
     "showTitle": false,
     "title": ""
    }
   },
   "outputs": [],
   "source": [
    "# Change data type to columns\n",
    "entriesgender_df =  entriesgender_df.withColumn('Female', col('Female').cast(IntegerType()))\\\n",
    "                    .withColumn('Male', col('Male').cast(IntegerType()))\\\n",
    "                    .withColumn('Total', col('Total').cast(IntegerType()))"
   ]
  },
  {
   "cell_type": "code",
   "execution_count": 0,
   "metadata": {
    "application/vnd.databricks.v1+cell": {
     "cellMetadata": {
      "byteLimit": 2048000,
      "rowLimit": 10000
     },
     "inputWidgets": {},
     "nuid": "2fa0620e-920c-4a80-b466-24ff421314ca",
     "showTitle": false,
     "title": ""
    }
   },
   "outputs": [
    {
     "output_type": "stream",
     "name": "stdout",
     "output_type": "stream",
     "text": [
      "root\n |-- Discipline: string (nullable = true)\n |-- Female: integer (nullable = true)\n |-- Male: integer (nullable = true)\n |-- Total: integer (nullable = true)\n\n"
     ]
    }
   ],
   "source": [
    "entriesgender_df.printSchema()"
   ]
  },
  {
   "cell_type": "code",
   "execution_count": 0,
   "metadata": {
    "application/vnd.databricks.v1+cell": {
     "cellMetadata": {
      "byteLimit": 2048000,
      "rowLimit": 10000
     },
     "inputWidgets": {},
     "nuid": "85428a71-e6fe-46a1-9693-28a44c73c424",
     "showTitle": false,
     "title": ""
    }
   },
   "outputs": [
    {
     "output_type": "stream",
     "name": "stdout",
     "output_type": "stream",
     "text": [
      "+----+--------------------+----+------+------+-----+-------------+\n|Rank|        Team_Country|Gold|Silver|Bronze|Total|Rank by Total|\n+----+--------------------+----+------+------+-----+-------------+\n|   1|United States of ...|  39|    41|    33|  113|            1|\n|   2|People's Republic...|  38|    32|    18|   88|            2|\n|   3|               Japan|  27|    14|    17|   58|            5|\n|   4|       Great Britain|  22|    21|    22|   65|            4|\n|   5|                 ROC|  20|    28|    23|   71|            3|\n|   6|           Australia|  17|     7|    22|   46|            6|\n|   7|         Netherlands|  10|    12|    14|   36|            9|\n|   8|              France|  10|    12|    11|   33|           10|\n|   9|             Germany|  10|    11|    16|   37|            8|\n|  10|               Italy|  10|    10|    20|   40|            7|\n+----+--------------------+----+------+------+-----+-------------+\nonly showing top 10 rows\n\n"
     ]
    }
   ],
   "source": [
    "medals_df.show(10)"
   ]
  },
  {
   "cell_type": "code",
   "execution_count": 0,
   "metadata": {
    "application/vnd.databricks.v1+cell": {
     "cellMetadata": {
      "byteLimit": 2048000,
      "rowLimit": 10000
     },
     "inputWidgets": {},
     "nuid": "f90b40f8-4107-4a96-9605-8a4168e35c67",
     "showTitle": false,
     "title": ""
    }
   },
   "outputs": [
    {
     "output_type": "stream",
     "name": "stdout",
     "output_type": "stream",
     "text": [
      "+----+--------------------+----+------+------+-----+-------------+\n|Rank|        Team_Country|Gold|Silver|Bronze|Total|Rank_by_Total|\n+----+--------------------+----+------+------+-----+-------------+\n|   1|United States of ...|  39|    41|    33|  113|            1|\n|   2|People's Republic...|  38|    32|    18|   88|            2|\n|   3|               Japan|  27|    14|    17|   58|            5|\n|   4|       Great Britain|  22|    21|    22|   65|            4|\n|   5|                 ROC|  20|    28|    23|   71|            3|\n|   6|           Australia|  17|     7|    22|   46|            6|\n|   7|         Netherlands|  10|    12|    14|   36|            9|\n|   8|              France|  10|    12|    11|   33|           10|\n|   9|             Germany|  10|    11|    16|   37|            8|\n|  10|               Italy|  10|    10|    20|   40|            7|\n+----+--------------------+----+------+------+-----+-------------+\nonly showing top 10 rows\n\n"
     ]
    }
   ],
   "source": [
    "medals_df = medals_df.withColumnRenamed('Rank by Total', 'Rank_by_Total')\n",
    "medals_df.show(10)"
   ]
  },
  {
   "cell_type": "code",
   "execution_count": 0,
   "metadata": {
    "application/vnd.databricks.v1+cell": {
     "cellMetadata": {
      "byteLimit": 2048000,
      "rowLimit": 10000
     },
     "inputWidgets": {},
     "nuid": "7ab10f42-6020-481a-8f52-01ccd63f6b8b",
     "showTitle": false,
     "title": ""
    }
   },
   "outputs": [
    {
     "output_type": "stream",
     "name": "stdout",
     "output_type": "stream",
     "text": [
      "root\n |-- Rank: integer (nullable = true)\n |-- Team_Country: string (nullable = true)\n |-- Gold: integer (nullable = true)\n |-- Silver: integer (nullable = true)\n |-- Bronze: integer (nullable = true)\n |-- Total: integer (nullable = true)\n |-- Rank_by_Total: integer (nullable = true)\n\n"
     ]
    }
   ],
   "source": [
    "medals_df.printSchema()"
   ]
  },
  {
   "cell_type": "code",
   "execution_count": 0,
   "metadata": {
    "application/vnd.databricks.v1+cell": {
     "cellMetadata": {
      "byteLimit": 2048000,
      "rowLimit": 10000
     },
     "inputWidgets": {},
     "nuid": "1d2f8944-3b25-4a11-860b-05cb78272ae7",
     "showTitle": false,
     "title": ""
    }
   },
   "outputs": [
    {
     "output_type": "stream",
     "name": "stdout",
     "output_type": "stream",
     "text": [
      "+-----------+--------------+--------------------+-----+\n|   TeamName|    Discipline|             Country|Event|\n+-----------+--------------+--------------------+-----+\n|    Belgium|3x3 Basketball|             Belgium|  Men|\n|      China|3x3 Basketball|People's Republic...|  Men|\n|      China|3x3 Basketball|People's Republic...|Women|\n|     France|3x3 Basketball|              France|Women|\n|      Italy|3x3 Basketball|               Italy|Women|\n|      Japan|3x3 Basketball|               Japan|  Men|\n|      Japan|3x3 Basketball|               Japan|Women|\n|     Latvia|3x3 Basketball|              Latvia|  Men|\n|   Mongolia|3x3 Basketball|            Mongolia|Women|\n|Netherlands|3x3 Basketball|         Netherlands|  Men|\n+-----------+--------------+--------------------+-----+\nonly showing top 10 rows\n\n"
     ]
    }
   ],
   "source": [
    "teams_df.show(10)"
   ]
  },
  {
   "cell_type": "code",
   "execution_count": 0,
   "metadata": {
    "application/vnd.databricks.v1+cell": {
     "cellMetadata": {
      "byteLimit": 2048000,
      "rowLimit": 10000
     },
     "inputWidgets": {},
     "nuid": "97ac0267-c8ef-4c7e-9d92-b6c2cbc89af2",
     "showTitle": false,
     "title": ""
    }
   },
   "outputs": [
    {
     "output_type": "stream",
     "name": "stdout",
     "output_type": "stream",
     "text": [
      "+-----------+--------------+--------------------+-----+\n|       Team|    Discipline|             Country|Event|\n+-----------+--------------+--------------------+-----+\n|    Belgium|3x3 Basketball|             Belgium|  Men|\n|      China|3x3 Basketball|People's Republic...|  Men|\n|      China|3x3 Basketball|People's Republic...|Women|\n|     France|3x3 Basketball|              France|Women|\n|      Italy|3x3 Basketball|               Italy|Women|\n|      Japan|3x3 Basketball|               Japan|  Men|\n|      Japan|3x3 Basketball|               Japan|Women|\n|     Latvia|3x3 Basketball|              Latvia|  Men|\n|   Mongolia|3x3 Basketball|            Mongolia|Women|\n|Netherlands|3x3 Basketball|         Netherlands|  Men|\n+-----------+--------------+--------------------+-----+\nonly showing top 10 rows\n\n"
     ]
    }
   ],
   "source": [
    "# Change column name (teams_df)\n",
    "teams_df = teams_df.withColumnRenamed('TeamName', 'Team')\n",
    "teams_df.show(10)"
   ]
  },
  {
   "cell_type": "code",
   "execution_count": 0,
   "metadata": {
    "application/vnd.databricks.v1+cell": {
     "cellMetadata": {
      "byteLimit": 2048000,
      "rowLimit": 10000
     },
     "inputWidgets": {},
     "nuid": "6f4db27e-ef1d-49b7-b80a-20db3720028d",
     "showTitle": false,
     "title": ""
    }
   },
   "outputs": [
    {
     "output_type": "stream",
     "name": "stdout",
     "output_type": "stream",
     "text": [
      "root\n |-- Team: string (nullable = true)\n |-- Discipline: string (nullable = true)\n |-- Country: string (nullable = true)\n |-- Event: string (nullable = true)\n\n"
     ]
    }
   ],
   "source": [
    "teams_df.printSchema()"
   ]
  },
  {
   "cell_type": "code",
   "execution_count": 0,
   "metadata": {
    "application/vnd.databricks.v1+cell": {
     "cellMetadata": {
      "byteLimit": 2048000,
      "rowLimit": 10000
     },
     "inputWidgets": {},
     "nuid": "5d85783a-7e0f-4f61-8b5c-b241c7e5ddb7",
     "showTitle": false,
     "title": ""
    }
   },
   "outputs": [],
   "source": [
    "# Moving data to the silver layer in Delta format\n",
    "athletes_df.write.mode('overwrite').format('delta').save(f\"{silver_path}/athletes\")\n",
    "coaches_df.write.mode('overwrite').format('delta').save(f\"{silver_path}/coaches\")\n",
    "entriesgender_df.write.mode('overwrite').format('delta').save(f\"{silver_path}/entriesgender\")\n",
    "medals_df.write.mode('overwrite').format('delta').save(f\"{silver_path}/medals\")\n",
    "teams_df.write.mode('overwrite').format('delta').save(f\"{silver_path}/teams\")"
   ]
  },
  {
   "cell_type": "code",
   "execution_count": 0,
   "metadata": {
    "application/vnd.databricks.v1+cell": {
     "cellMetadata": {
      "byteLimit": 2048000,
      "rowLimit": 10000
     },
     "inputWidgets": {},
     "nuid": "10770908-b300-4519-bf66-2b5d3b339eb9",
     "showTitle": false,
     "title": ""
    }
   },
   "outputs": [],
   "source": [
    "# Mapping silver layer file\n",
    "ATHLETES_DATA = '/mnt/tokyo-olympic-data/Silver/athletes'\n",
    "COACHES_DATA = '/mnt/tokyo-olympic-data/Silver/coaches'\n",
    "ENTRIES_GENDER_DATA = '/mnt/tokyo-olympic-data/Silver/entriesgender'\n",
    "MEDALS_DATA = '/mnt/tokyo-olympic-data/Silver/medals'\n",
    "TEAMS_DATA = '/mnt/tokyo-olympic-data/Silver/teams'"
   ]
  },
  {
   "cell_type": "code",
   "execution_count": 0,
   "metadata": {
    "application/vnd.databricks.v1+cell": {
     "cellMetadata": {
      "byteLimit": 2048000,
      "rowLimit": 10000
     },
     "inputWidgets": {},
     "nuid": "9ae9c888-e79c-4f3e-8811-58433c81af7f",
     "showTitle": false,
     "title": ""
    }
   },
   "outputs": [],
   "source": [
    "# Load data from the silver layer\n",
    "athletes_df = spark.read.format('delta').load(ATHLETES_DATA)\n",
    "coaches_df = spark.read.format('delta').load(COACHES_DATA)\n",
    "entriesgender_df = spark.read.format('delta').load(ENTRIES_GENDER_DATA)\n",
    "medals_df = spark.read.format('delta').load(MEDALS_DATA)\n",
    "teams_df = spark.read.format('delta').load(TEAMS_DATA)"
   ]
  },
  {
   "cell_type": "code",
   "execution_count": 0,
   "metadata": {
    "application/vnd.databricks.v1+cell": {
     "cellMetadata": {
      "byteLimit": 2048000,
      "rowLimit": 10000
     },
     "inputWidgets": {},
     "nuid": "fef4c756-d17d-474f-b692-64b96ab49fcd",
     "showTitle": false,
     "title": ""
    }
   },
   "outputs": [
    {
     "output_type": "display_data",
     "data": {
      "text/html": [
       "<style scoped>\n",
       "  .table-result-container {\n",
       "    max-height: 300px;\n",
       "    overflow: auto;\n",
       "  }\n",
       "  table, th, td {\n",
       "    border: 1px solid black;\n",
       "    border-collapse: collapse;\n",
       "  }\n",
       "  th, td {\n",
       "    padding: 5px;\n",
       "  }\n",
       "  th {\n",
       "    text-align: left;\n",
       "  }\n",
       "</style><div class='table-result-container'><table class='table-result'><thead style='background-color: white'><tr><th>Team_Country</th><th>Gold</th></tr></thead><tbody><tr><td>United States of America</td><td>39</td></tr><tr><td>People's Republic of China</td><td>38</td></tr><tr><td>Japan</td><td>27</td></tr><tr><td>Great Britain</td><td>22</td></tr><tr><td>ROC</td><td>20</td></tr></tbody></table></div>"
      ]
     },
     "metadata": {
      "application/vnd.databricks.v1+output": {
       "addedWidgets": {},
       "aggData": [],
       "aggError": "",
       "aggOverflow": false,
       "aggSchema": [],
       "aggSeriesLimitReached": false,
       "aggType": "",
       "arguments": {},
       "columnCustomDisplayInfos": {},
       "data": [
        [
         "United States of America",
         39
        ],
        [
         "People's Republic of China",
         38
        ],
        [
         "Japan",
         27
        ],
        [
         "Great Britain",
         22
        ],
        [
         "ROC",
         20
        ]
       ],
       "datasetInfos": [],
       "dbfsResultPath": null,
       "isJsonSchema": true,
       "metadata": {},
       "overflow": false,
       "plotOptions": {
        "customPlotOptions": {},
        "displayType": "table",
        "pivotAggregation": null,
        "pivotColumns": null,
        "xColumns": null,
        "yColumns": null
       },
       "removedWidgets": [],
       "schema": [
        {
         "metadata": "{}",
         "name": "Team_Country",
         "type": "\"string\""
        },
        {
         "metadata": "{}",
         "name": "Gold",
         "type": "\"integer\""
        }
       ],
       "type": "table"
      }
     },
     "output_type": "display_data"
    }
   ],
   "source": [
    "# Find the top 5 to countries with the highest numbers of gold medals\n",
    "top_gold_medals_country = medals_df.select(col(\"Team_Country\"), col('Gold'))\\\n",
    "                            .orderBy('Gold', ascending=False).limit(5)\n",
    "display(top_gold_medals_country)"
   ]
  },
  {
   "cell_type": "code",
   "execution_count": 0,
   "metadata": {
    "application/vnd.databricks.v1+cell": {
     "cellMetadata": {
      "byteLimit": 2048000,
      "rowLimit": 10000
     },
     "inputWidgets": {},
     "nuid": "9e5e0cea-405e-4939-adc4-9c6da73b8f12",
     "showTitle": false,
     "title": ""
    }
   },
   "outputs": [
    {
     "output_type": "display_data",
     "data": {
      "text/html": [
       "<style scoped>\n",
       "  .table-result-container {\n",
       "    max-height: 300px;\n",
       "    overflow: auto;\n",
       "  }\n",
       "  table, th, td {\n",
       "    border: 1px solid black;\n",
       "    border-collapse: collapse;\n",
       "  }\n",
       "  th, td {\n",
       "    padding: 5px;\n",
       "  }\n",
       "  th {\n",
       "    text-align: left;\n",
       "  }\n",
       "</style><div class='table-result-container'><table class='table-result'><thead style='background-color: white'><tr><th>Team_Country</th><th>Gold</th><th>Silver</th><th>Bronze</th></tr></thead><tbody><tr><td>United States of America</td><td>39</td><td>41</td><td>33</td></tr><tr><td>People's Republic of China</td><td>38</td><td>32</td><td>18</td></tr><tr><td>Japan</td><td>27</td><td>14</td><td>17</td></tr><tr><td>Great Britain</td><td>22</td><td>21</td><td>22</td></tr><tr><td>ROC</td><td>20</td><td>28</td><td>23</td></tr><tr><td>Australia</td><td>17</td><td>7</td><td>22</td></tr><tr><td>Germany</td><td>10</td><td>11</td><td>16</td></tr><tr><td>France</td><td>10</td><td>12</td><td>11</td></tr><tr><td>Italy</td><td>10</td><td>10</td><td>20</td></tr><tr><td>Netherlands</td><td>10</td><td>12</td><td>14</td></tr><tr><td>Cuba</td><td>7</td><td>3</td><td>5</td></tr><tr><td>Canada</td><td>7</td><td>6</td><td>11</td></tr><tr><td>Brazil</td><td>7</td><td>6</td><td>8</td></tr><tr><td>New Zealand</td><td>7</td><td>6</td><td>7</td></tr><tr><td>Republic of Korea</td><td>6</td><td>4</td><td>10</td></tr><tr><td>Hungary</td><td>6</td><td>7</td><td>7</td></tr><tr><td>Norway</td><td>4</td><td>2</td><td>2</td></tr><tr><td>Jamaica</td><td>4</td><td>1</td><td>4</td></tr><tr><td>Czech Republic</td><td>4</td><td>4</td><td>3</td></tr><tr><td>Kenya</td><td>4</td><td>4</td><td>2</td></tr><tr><td>Poland</td><td>4</td><td>5</td><td>5</td></tr><tr><td>Islamic Republic of Iran</td><td>3</td><td>2</td><td>2</td></tr><tr><td>Sweden</td><td>3</td><td>6</td><td>0</td></tr><tr><td>Belgium</td><td>3</td><td>1</td><td>3</td></tr><tr><td>Croatia</td><td>3</td><td>3</td><td>2</td></tr><tr><td>Spain</td><td>3</td><td>8</td><td>6</td></tr><tr><td>Denmark</td><td>3</td><td>4</td><td>4</td></tr><tr><td>Switzerland</td><td>3</td><td>4</td><td>6</td></tr><tr><td>Uzbekistan</td><td>3</td><td>0</td><td>2</td></tr><tr><td>Slovenia</td><td>3</td><td>1</td><td>1</td></tr><tr><td>Bulgaria</td><td>3</td><td>1</td><td>2</td></tr><tr><td>Serbia</td><td>3</td><td>1</td><td>5</td></tr><tr><td>Chinese Taipei</td><td>2</td><td>4</td><td>6</td></tr><tr><td>Turkey</td><td>2</td><td>2</td><td>9</td></tr><tr><td>Greece</td><td>2</td><td>1</td><td>1</td></tr><tr><td>Kosovo</td><td>2</td><td>0</td><td>0</td></tr><tr><td>Ecuador</td><td>2</td><td>1</td><td>0</td></tr><tr><td>Qatar</td><td>2</td><td>0</td><td>1</td></tr><tr><td>Bahamas</td><td>2</td><td>0</td><td>0</td></tr><tr><td>Ireland</td><td>2</td><td>0</td><td>2</td></tr><tr><td>Israel</td><td>2</td><td>0</td><td>2</td></tr><tr><td>Georgia</td><td>2</td><td>5</td><td>1</td></tr><tr><td>Uganda</td><td>2</td><td>1</td><td>1</td></tr><tr><td>Philippines</td><td>1</td><td>2</td><td>1</td></tr><tr><td>Fiji</td><td>1</td><td>0</td><td>1</td></tr><tr><td>Slovakia</td><td>1</td><td>2</td><td>1</td></tr><tr><td>Hong Kong, China</td><td>1</td><td>2</td><td>3</td></tr><tr><td>India</td><td>1</td><td>2</td><td>4</td></tr><tr><td>Belarus</td><td>1</td><td>3</td><td>3</td></tr><tr><td>Puerto Rico</td><td>1</td><td>0</td><td>0</td></tr><tr><td>Thailand</td><td>1</td><td>0</td><td>1</td></tr><tr><td>Morocco</td><td>1</td><td>0</td><td>0</td></tr><tr><td>Ukraine</td><td>1</td><td>6</td><td>12</td></tr><tr><td>Venezuela</td><td>1</td><td>3</td><td>0</td></tr><tr><td>Estonia</td><td>1</td><td>0</td><td>1</td></tr><tr><td>Indonesia</td><td>1</td><td>1</td><td>3</td></tr><tr><td>Tunisia</td><td>1</td><td>1</td><td>0</td></tr><tr><td>Ethiopia</td><td>1</td><td>1</td><td>2</td></tr><tr><td>Latvia</td><td>1</td><td>0</td><td>1</td></tr><tr><td>Portugal</td><td>1</td><td>1</td><td>2</td></tr><tr><td>Romania</td><td>1</td><td>3</td><td>0</td></tr><tr><td>Austria</td><td>1</td><td>1</td><td>5</td></tr><tr><td>Egypt</td><td>1</td><td>1</td><td>4</td></tr><tr><td>South Africa</td><td>1</td><td>2</td><td>0</td></tr><tr><td>Bermuda</td><td>1</td><td>0</td><td>0</td></tr><tr><td>Malaysia</td><td>0</td><td>1</td><td>1</td></tr><tr><td>Jordan</td><td>0</td><td>1</td><td>1</td></tr><tr><td>Argentina</td><td>0</td><td>1</td><td>2</td></tr><tr><td>San Marino</td><td>0</td><td>1</td><td>2</td></tr><tr><td>Finland</td><td>0</td><td>0</td><td>2</td></tr><tr><td>Ghana</td><td>0</td><td>0</td><td>1</td></tr><tr><td>Kuwait</td><td>0</td><td>0</td><td>1</td></tr><tr><td>Nigeria</td><td>0</td><td>1</td><td>1</td></tr><tr><td>Lithuania</td><td>0</td><td>1</td><td>0</td></tr><tr><td>Turkmenistan</td><td>0</td><td>1</td><td>0</td></tr><tr><td>Mexico</td><td>0</td><td>0</td><td>4</td></tr><tr><td>C�te d'Ivoire</td><td>0</td><td>0</td><td>1</td></tr><tr><td>Mongolia</td><td>0</td><td>1</td><td>3</td></tr><tr><td>Azerbaijan</td><td>0</td><td>3</td><td>4</td></tr><tr><td>Grenada</td><td>0</td><td>0</td><td>1</td></tr><tr><td>Armenia</td><td>0</td><td>2</td><td>2</td></tr><tr><td>Saudi Arabia</td><td>0</td><td>1</td><td>0</td></tr><tr><td>Namibia</td><td>0</td><td>1</td><td>0</td></tr><tr><td>Kyrgyzstan</td><td>0</td><td>2</td><td>1</td></tr><tr><td>North Macedonia</td><td>0</td><td>1</td><td>0</td></tr><tr><td>Dominican Republic</td><td>0</td><td>3</td><td>2</td></tr><tr><td>Botswana</td><td>0</td><td>0</td><td>1</td></tr><tr><td>Republic of Moldova</td><td>0</td><td>0</td><td>1</td></tr><tr><td>Kazakhstan</td><td>0</td><td>0</td><td>8</td></tr><tr><td>Burkina Faso</td><td>0</td><td>0</td><td>1</td></tr><tr><td>Bahrain</td><td>0</td><td>1</td><td>0</td></tr><tr><td>Colombia</td><td>0</td><td>4</td><td>1</td></tr><tr><td>Syrian Arab Republic</td><td>0</td><td>0</td><td>1</td></tr></tbody></table></div>"
      ]
     },
     "metadata": {
      "application/vnd.databricks.v1+output": {
       "addedWidgets": {},
       "aggData": [],
       "aggError": "",
       "aggOverflow": false,
       "aggSchema": [],
       "aggSeriesLimitReached": false,
       "aggType": "",
       "arguments": {},
       "columnCustomDisplayInfos": {},
       "data": [
        [
         "United States of America",
         39,
         41,
         33
        ],
        [
         "People's Republic of China",
         38,
         32,
         18
        ],
        [
         "Japan",
         27,
         14,
         17
        ],
        [
         "Great Britain",
         22,
         21,
         22
        ],
        [
         "ROC",
         20,
         28,
         23
        ],
        [
         "Australia",
         17,
         7,
         22
        ],
        [
         "Germany",
         10,
         11,
         16
        ],
        [
         "France",
         10,
         12,
         11
        ],
        [
         "Italy",
         10,
         10,
         20
        ],
        [
         "Netherlands",
         10,
         12,
         14
        ],
        [
         "Cuba",
         7,
         3,
         5
        ],
        [
         "Canada",
         7,
         6,
         11
        ],
        [
         "Brazil",
         7,
         6,
         8
        ],
        [
         "New Zealand",
         7,
         6,
         7
        ],
        [
         "Republic of Korea",
         6,
         4,
         10
        ],
        [
         "Hungary",
         6,
         7,
         7
        ],
        [
         "Norway",
         4,
         2,
         2
        ],
        [
         "Jamaica",
         4,
         1,
         4
        ],
        [
         "Czech Republic",
         4,
         4,
         3
        ],
        [
         "Kenya",
         4,
         4,
         2
        ],
        [
         "Poland",
         4,
         5,
         5
        ],
        [
         "Islamic Republic of Iran",
         3,
         2,
         2
        ],
        [
         "Sweden",
         3,
         6,
         0
        ],
        [
         "Belgium",
         3,
         1,
         3
        ],
        [
         "Croatia",
         3,
         3,
         2
        ],
        [
         "Spain",
         3,
         8,
         6
        ],
        [
         "Denmark",
         3,
         4,
         4
        ],
        [
         "Switzerland",
         3,
         4,
         6
        ],
        [
         "Uzbekistan",
         3,
         0,
         2
        ],
        [
         "Slovenia",
         3,
         1,
         1
        ],
        [
         "Bulgaria",
         3,
         1,
         2
        ],
        [
         "Serbia",
         3,
         1,
         5
        ],
        [
         "Chinese Taipei",
         2,
         4,
         6
        ],
        [
         "Turkey",
         2,
         2,
         9
        ],
        [
         "Greece",
         2,
         1,
         1
        ],
        [
         "Kosovo",
         2,
         0,
         0
        ],
        [
         "Ecuador",
         2,
         1,
         0
        ],
        [
         "Qatar",
         2,
         0,
         1
        ],
        [
         "Bahamas",
         2,
         0,
         0
        ],
        [
         "Ireland",
         2,
         0,
         2
        ],
        [
         "Israel",
         2,
         0,
         2
        ],
        [
         "Georgia",
         2,
         5,
         1
        ],
        [
         "Uganda",
         2,
         1,
         1
        ],
        [
         "Philippines",
         1,
         2,
         1
        ],
        [
         "Fiji",
         1,
         0,
         1
        ],
        [
         "Slovakia",
         1,
         2,
         1
        ],
        [
         "Hong Kong, China",
         1,
         2,
         3
        ],
        [
         "India",
         1,
         2,
         4
        ],
        [
         "Belarus",
         1,
         3,
         3
        ],
        [
         "Puerto Rico",
         1,
         0,
         0
        ],
        [
         "Thailand",
         1,
         0,
         1
        ],
        [
         "Morocco",
         1,
         0,
         0
        ],
        [
         "Ukraine",
         1,
         6,
         12
        ],
        [
         "Venezuela",
         1,
         3,
         0
        ],
        [
         "Estonia",
         1,
         0,
         1
        ],
        [
         "Indonesia",
         1,
         1,
         3
        ],
        [
         "Tunisia",
         1,
         1,
         0
        ],
        [
         "Ethiopia",
         1,
         1,
         2
        ],
        [
         "Latvia",
         1,
         0,
         1
        ],
        [
         "Portugal",
         1,
         1,
         2
        ],
        [
         "Romania",
         1,
         3,
         0
        ],
        [
         "Austria",
         1,
         1,
         5
        ],
        [
         "Egypt",
         1,
         1,
         4
        ],
        [
         "South Africa",
         1,
         2,
         0
        ],
        [
         "Bermuda",
         1,
         0,
         0
        ],
        [
         "Malaysia",
         0,
         1,
         1
        ],
        [
         "Jordan",
         0,
         1,
         1
        ],
        [
         "Argentina",
         0,
         1,
         2
        ],
        [
         "San Marino",
         0,
         1,
         2
        ],
        [
         "Finland",
         0,
         0,
         2
        ],
        [
         "Ghana",
         0,
         0,
         1
        ],
        [
         "Kuwait",
         0,
         0,
         1
        ],
        [
         "Nigeria",
         0,
         1,
         1
        ],
        [
         "Lithuania",
         0,
         1,
         0
        ],
        [
         "Turkmenistan",
         0,
         1,
         0
        ],
        [
         "Mexico",
         0,
         0,
         4
        ],
        [
         "C�te d'Ivoire",
         0,
         0,
         1
        ],
        [
         "Mongolia",
         0,
         1,
         3
        ],
        [
         "Azerbaijan",
         0,
         3,
         4
        ],
        [
         "Grenada",
         0,
         0,
         1
        ],
        [
         "Armenia",
         0,
         2,
         2
        ],
        [
         "Saudi Arabia",
         0,
         1,
         0
        ],
        [
         "Namibia",
         0,
         1,
         0
        ],
        [
         "Kyrgyzstan",
         0,
         2,
         1
        ],
        [
         "North Macedonia",
         0,
         1,
         0
        ],
        [
         "Dominican Republic",
         0,
         3,
         2
        ],
        [
         "Botswana",
         0,
         0,
         1
        ],
        [
         "Republic of Moldova",
         0,
         0,
         1
        ],
        [
         "Kazakhstan",
         0,
         0,
         8
        ],
        [
         "Burkina Faso",
         0,
         0,
         1
        ],
        [
         "Bahrain",
         0,
         1,
         0
        ],
        [
         "Colombia",
         0,
         4,
         1
        ],
        [
         "Syrian Arab Republic",
         0,
         0,
         1
        ]
       ],
       "datasetInfos": [],
       "dbfsResultPath": null,
       "isJsonSchema": true,
       "metadata": {},
       "overflow": false,
       "plotOptions": {
        "customPlotOptions": {},
        "displayType": "table",
        "pivotAggregation": null,
        "pivotColumns": null,
        "xColumns": null,
        "yColumns": null
       },
       "removedWidgets": [],
       "schema": [
        {
         "metadata": "{}",
         "name": "Team_Country",
         "type": "\"string\""
        },
        {
         "metadata": "{}",
         "name": "Gold",
         "type": "\"long\""
        },
        {
         "metadata": "{}",
         "name": "Silver",
         "type": "\"long\""
        },
        {
         "metadata": "{}",
         "name": "Bronze",
         "type": "\"long\""
        }
       ],
       "type": "table"
      }
     },
     "output_type": "display_data"
    }
   ],
   "source": [
    "# Medals by countries\n",
    "medals_country = medals_df.groupBy('Team_Country')\\\n",
    "                .agg(sum('Gold').alias('Gold'), sum('Silver').alias('Silver'), sum('Bronze').alias('Bronze'))\\\n",
    "                .orderBy('Gold', ascending=False)\n",
    "display(medals_country)"
   ]
  },
  {
   "cell_type": "code",
   "execution_count": 0,
   "metadata": {
    "application/vnd.databricks.v1+cell": {
     "cellMetadata": {
      "byteLimit": 2048000,
      "rowLimit": 10000
     },
     "inputWidgets": {},
     "nuid": "a16a8f98-f6b8-4298-aad1-0ec5e136530a",
     "showTitle": false,
     "title": ""
    }
   },
   "outputs": [
    {
     "output_type": "display_data",
     "data": {
      "text/html": [
       "<style scoped>\n",
       "  .table-result-container {\n",
       "    max-height: 300px;\n",
       "    overflow: auto;\n",
       "  }\n",
       "  table, th, td {\n",
       "    border: 1px solid black;\n",
       "    border-collapse: collapse;\n",
       "  }\n",
       "  th, td {\n",
       "    padding: 5px;\n",
       "  }\n",
       "  th {\n",
       "    text-align: left;\n",
       "  }\n",
       "</style><div class='table-result-container'><table class='table-result'><thead style='background-color: white'><tr><th>Country</th><th>number of athletes</th></tr></thead><tbody><tr><td>United States of America</td><td>615</td></tr><tr><td>Japan</td><td>586</td></tr><tr><td>Australia</td><td>470</td></tr><tr><td>People's Republic of China</td><td>401</td></tr><tr><td>Germany</td><td>400</td></tr><tr><td>France</td><td>377</td></tr><tr><td>Canada</td><td>368</td></tr><tr><td>Great Britain</td><td>366</td></tr><tr><td>Italy</td><td>356</td></tr><tr><td>Spain</td><td>324</td></tr><tr><td>ROC</td><td>318</td></tr><tr><td>Brazil</td><td>291</td></tr><tr><td>Netherlands</td><td>274</td></tr><tr><td>Republic of Korea</td><td>223</td></tr><tr><td>New Zealand</td><td>202</td></tr><tr><td>Poland</td><td>195</td></tr><tr><td>Argentina</td><td>180</td></tr><tr><td>South Africa</td><td>171</td></tr><tr><td>Mexico</td><td>155</td></tr><tr><td>Hungary</td><td>155</td></tr><tr><td>Ukraine</td><td>152</td></tr><tr><td>Egypt</td><td>133</td></tr><tr><td>Sweden</td><td>129</td></tr><tr><td>Belgium</td><td>125</td></tr><tr><td>India</td><td>117</td></tr><tr><td>Czech Republic</td><td>117</td></tr><tr><td>Ireland</td><td>116</td></tr><tr><td>Switzerland</td><td>115</td></tr><tr><td>Belarus</td><td>104</td></tr><tr><td>Denmark</td><td>103</td></tr><tr><td>Turkey</td><td>102</td></tr><tr><td>Romania</td><td>99</td></tr><tr><td>Norway</td><td>92</td></tr><tr><td>Kazakhstan</td><td>92</td></tr><tr><td>Israel</td><td>85</td></tr><tr><td>Portugal</td><td>85</td></tr><tr><td>Serbia</td><td>83</td></tr><tr><td>Kenya</td><td>78</td></tr><tr><td>Greece</td><td>75</td></tr><tr><td>Austria</td><td>72</td></tr><tr><td>Cuba</td><td>69</td></tr><tr><td>Chinese Taipei</td><td>67</td></tr><tr><td>Islamic Republic of Iran</td><td>66</td></tr><tr><td>Colombia</td><td>64</td></tr><tr><td>Uzbekistan</td><td>63</td></tr><tr><td>Dominican Republic</td><td>61</td></tr><tr><td>Jamaica</td><td>60</td></tr><tr><td>Nigeria</td><td>59</td></tr><tr><td>Croatia</td><td>57</td></tr><tr><td>Tunisia</td><td>57</td></tr><tr><td>Chile</td><td>56</td></tr><tr><td>Slovenia</td><td>51</td></tr><tr><td>Morocco</td><td>48</td></tr><tr><td>Ecuador</td><td>46</td></tr><tr><td>Finland</td><td>45</td></tr><tr><td>Venezuela</td><td>43</td></tr><tr><td>Mongolia</td><td>43</td></tr><tr><td>Ethiopia</td><td>42</td></tr><tr><td>Algeria</td><td>41</td></tr><tr><td>Azerbaijan</td><td>41</td></tr><tr><td>Bulgaria</td><td>41</td></tr><tr><td>Hong Kong, China</td><td>40</td></tr><tr><td>Thailand</td><td>39</td></tr><tr><td>Slovakia</td><td>38</td></tr><tr><td>Lithuania</td><td>37</td></tr><tr><td>Puerto Rico</td><td>35</td></tr><tr><td>Georgia</td><td>35</td></tr><tr><td>Montenegro</td><td>35</td></tr><tr><td>Peru</td><td>33</td></tr><tr><td>Estonia</td><td>33</td></tr><tr><td>Saudi Arabia</td><td>32</td></tr><tr><td>Trinidad and Tobago</td><td>31</td></tr><tr><td>Bahrain</td><td>31</td></tr><tr><td>Malaysia</td><td>29</td></tr><tr><td>C�te d'Ivoire</td><td>29</td></tr><tr><td>Zambia</td><td>29</td></tr><tr><td>Latvia</td><td>29</td></tr><tr><td>Fiji</td><td>28</td></tr><tr><td>Refugee Olympic Team</td><td>26</td></tr><tr><td>Indonesia</td><td>26</td></tr><tr><td>Honduras</td><td>25</td></tr><tr><td>Uganda</td><td>24</td></tr><tr><td>Singapore</td><td>23</td></tr><tr><td>Guatemala</td><td>22</td></tr><tr><td>Angola</td><td>20</td></tr><tr><td>Republic of Moldova</td><td>19</td></tr><tr><td>Philippines</td><td>18</td></tr><tr><td>Vietnam</td><td>17</td></tr><tr><td>Bahamas</td><td>16</td></tr><tr><td>Armenia</td><td>16</td></tr><tr><td>Kyrgyzstan</td><td>16</td></tr><tr><td>Qatar</td><td>14</td></tr><tr><td>Ghana</td><td>14</td></tr><tr><td>Cyprus</td><td>14</td></tr><tr><td>Eritrea</td><td>13</td></tr><tr><td>Botswana</td><td>13</td></tr><tr><td>Costa Rica</td><td>13</td></tr><tr><td>Jordan</td><td>11</td></tr><tr><td>Uruguay</td><td>11</td></tr><tr><td>Namibia</td><td>11</td></tr><tr><td>Luxembourg</td><td>11</td></tr><tr><td>Cameroon</td><td>11</td></tr><tr><td>Kosovo</td><td>10</td></tr><tr><td>Kuwait</td><td>10</td></tr><tr><td>Pakistan</td><td>10</td></tr><tr><td>Senegal</td><td>9</td></tr><tr><td>Sri Lanka</td><td>9</td></tr><tr><td>Panama</td><td>9</td></tr><tr><td>Paraguay</td><td>8</td></tr><tr><td>Albania</td><td>8</td></tr><tr><td>Nicaragua</td><td>8</td></tr><tr><td>Tajikistan</td><td>8</td></tr><tr><td>Turkmenistan</td><td>8</td></tr><tr><td>Samoa</td><td>8</td></tr><tr><td>North Macedonia</td><td>8</td></tr><tr><td>Mozambique</td><td>8</td></tr><tr><td>Guyana</td><td>7</td></tr><tr><td>Benin</td><td>7</td></tr><tr><td>Niger</td><td>7</td></tr><tr><td>Barbados</td><td>7</td></tr><tr><td>Democratic Republic of the Congo</td><td>7</td></tr><tr><td>Bosnia and Herzegovina</td><td>7</td></tr><tr><td>Papua New Guinea</td><td>7</td></tr><tr><td>Burkina Faso</td><td>7</td></tr><tr><td>Mauritius</td><td>7</td></tr><tr><td>Madagascar</td><td>6</td></tr><tr><td>Malta</td><td>6</td></tr><tr><td>Burundi</td><td>6</td></tr><tr><td>Bangladesh</td><td>6</td></tr><tr><td>Monaco</td><td>6</td></tr><tr><td>Cape Verde</td><td>6</td></tr><tr><td>Grenada</td><td>6</td></tr><tr><td>Cook Islands</td><td>6</td></tr><tr><td>Lebanon</td><td>6</td></tr><tr><td>Antigua and Barbuda</td><td>6</td></tr><tr><td>Haiti</td><td>6</td></tr><tr><td>Syrian Arab Republic</td><td>6</td></tr><tr><td>Tonga</td><td>5</td></tr><tr><td>Malawi</td><td>5</td></tr><tr><td>Afghanistan</td><td>5</td></tr><tr><td>Rwanda</td><td>5</td></tr><tr><td>Sudan</td><td>5</td></tr><tr><td>American Samoa</td><td>5</td></tr><tr><td>Cayman Islands</td><td>5</td></tr><tr><td>Bolivia</td><td>5</td></tr><tr><td>Gabon</td><td>5</td></tr><tr><td>Liechtenstein</td><td>5</td></tr><tr><td>Oman</td><td>5</td></tr><tr><td>Zimbabwe</td><td>5</td></tr><tr><td>Guam</td><td>5</td></tr><tr><td>Saint Lucia</td><td>5</td></tr><tr><td>Guinea</td><td>5</td></tr><tr><td>Seychelles</td><td>5</td></tr><tr><td>Nepal</td><td>5</td></tr><tr><td>El Salvador</td><td>5</td></tr><tr><td>Djibouti</td><td>4</td></tr><tr><td>Iraq</td><td>4</td></tr><tr><td>Maldives</td><td>4</td></tr><tr><td>Togo</td><td>4</td></tr><tr><td>San Marino</td><td>4</td></tr><tr><td>Sierra Leone</td><td>4</td></tr><tr><td>Iceland</td><td>4</td></tr><tr><td>Palestine</td><td>4</td></tr><tr><td>Libya</td><td>4</td></tr><tr><td>Eswatini</td><td>4</td></tr><tr><td>United Arab Emirates</td><td>4</td></tr><tr><td>Lao People's Democratic Republic</td><td>4</td></tr><tr><td>Guinea-Bissau</td><td>4</td></tr><tr><td>Virgin Islands, US</td><td>4</td></tr><tr><td>Mali</td><td>4</td></tr><tr><td>Chad</td><td>3</td></tr><tr><td>Yemen</td><td>3</td></tr><tr><td>Kiribati</td><td>3</td></tr><tr><td>Comoros</td><td>3</td></tr><tr><td>Cambodia</td><td>3</td></tr><tr><td>Palau</td><td>3</td></tr><tr><td>Equatorial Guinea</td><td>3</td></tr><tr><td>Sao Tome and Principe</td><td>3</td></tr><tr><td>Suriname</td><td>3</td></tr><tr><td>Congo</td><td>3</td></tr><tr><td>Bhutan</td><td>3</td></tr><tr><td>Virgin Islands, British</td><td>3</td></tr><tr><td>Aruba</td><td>3</td></tr><tr><td>Federated States of Micronesia</td><td>3</td></tr><tr><td>Liberia</td><td>3</td></tr><tr><td>Belize</td><td>3</td></tr><tr><td>Gambia</td><td>3</td></tr><tr><td>Solomon Islands</td><td>3</td></tr><tr><td>Democratic Republic of Timor-Leste</td><td>3</td></tr><tr><td>Dominica</td><td>2</td></tr><tr><td>Lesotho</td><td>2</td></tr><tr><td>Myanmar</td><td>2</td></tr><tr><td>Brunei Darussalam</td><td>2</td></tr><tr><td>Somalia</td><td>2</td></tr><tr><td>Marshall Islands</td><td>2</td></tr><tr><td>Tuvalu</td><td>2</td></tr><tr><td>United Republic of Tanzania</td><td>2</td></tr><tr><td>Andorra</td><td>2</td></tr><tr><td>St Vincent and the Grenadines</td><td>2</td></tr><tr><td>Mauritania</td><td>2</td></tr><tr><td>Central African Republic</td><td>2</td></tr><tr><td>Nauru</td><td>2</td></tr><tr><td>Saint Kitts and Nevis</td><td>2</td></tr><tr><td>South Sudan</td><td>2</td></tr><tr><td>Bermuda</td><td>2</td></tr><tr><td>Vanuatu</td><td>2</td></tr></tbody></table></div>"
      ]
     },
     "metadata": {
      "application/vnd.databricks.v1+output": {
       "addedWidgets": {},
       "aggData": [],
       "aggError": "",
       "aggOverflow": false,
       "aggSchema": [],
       "aggSeriesLimitReached": false,
       "aggType": "",
       "arguments": {},
       "columnCustomDisplayInfos": {},
       "data": [
        [
         "United States of America",
         615
        ],
        [
         "Japan",
         586
        ],
        [
         "Australia",
         470
        ],
        [
         "People's Republic of China",
         401
        ],
        [
         "Germany",
         400
        ],
        [
         "France",
         377
        ],
        [
         "Canada",
         368
        ],
        [
         "Great Britain",
         366
        ],
        [
         "Italy",
         356
        ],
        [
         "Spain",
         324
        ],
        [
         "ROC",
         318
        ],
        [
         "Brazil",
         291
        ],
        [
         "Netherlands",
         274
        ],
        [
         "Republic of Korea",
         223
        ],
        [
         "New Zealand",
         202
        ],
        [
         "Poland",
         195
        ],
        [
         "Argentina",
         180
        ],
        [
         "South Africa",
         171
        ],
        [
         "Mexico",
         155
        ],
        [
         "Hungary",
         155
        ],
        [
         "Ukraine",
         152
        ],
        [
         "Egypt",
         133
        ],
        [
         "Sweden",
         129
        ],
        [
         "Belgium",
         125
        ],
        [
         "India",
         117
        ],
        [
         "Czech Republic",
         117
        ],
        [
         "Ireland",
         116
        ],
        [
         "Switzerland",
         115
        ],
        [
         "Belarus",
         104
        ],
        [
         "Denmark",
         103
        ],
        [
         "Turkey",
         102
        ],
        [
         "Romania",
         99
        ],
        [
         "Norway",
         92
        ],
        [
         "Kazakhstan",
         92
        ],
        [
         "Israel",
         85
        ],
        [
         "Portugal",
         85
        ],
        [
         "Serbia",
         83
        ],
        [
         "Kenya",
         78
        ],
        [
         "Greece",
         75
        ],
        [
         "Austria",
         72
        ],
        [
         "Cuba",
         69
        ],
        [
         "Chinese Taipei",
         67
        ],
        [
         "Islamic Republic of Iran",
         66
        ],
        [
         "Colombia",
         64
        ],
        [
         "Uzbekistan",
         63
        ],
        [
         "Dominican Republic",
         61
        ],
        [
         "Jamaica",
         60
        ],
        [
         "Nigeria",
         59
        ],
        [
         "Croatia",
         57
        ],
        [
         "Tunisia",
         57
        ],
        [
         "Chile",
         56
        ],
        [
         "Slovenia",
         51
        ],
        [
         "Morocco",
         48
        ],
        [
         "Ecuador",
         46
        ],
        [
         "Finland",
         45
        ],
        [
         "Venezuela",
         43
        ],
        [
         "Mongolia",
         43
        ],
        [
         "Ethiopia",
         42
        ],
        [
         "Algeria",
         41
        ],
        [
         "Azerbaijan",
         41
        ],
        [
         "Bulgaria",
         41
        ],
        [
         "Hong Kong, China",
         40
        ],
        [
         "Thailand",
         39
        ],
        [
         "Slovakia",
         38
        ],
        [
         "Lithuania",
         37
        ],
        [
         "Puerto Rico",
         35
        ],
        [
         "Georgia",
         35
        ],
        [
         "Montenegro",
         35
        ],
        [
         "Peru",
         33
        ],
        [
         "Estonia",
         33
        ],
        [
         "Saudi Arabia",
         32
        ],
        [
         "Trinidad and Tobago",
         31
        ],
        [
         "Bahrain",
         31
        ],
        [
         "Malaysia",
         29
        ],
        [
         "C�te d'Ivoire",
         29
        ],
        [
         "Zambia",
         29
        ],
        [
         "Latvia",
         29
        ],
        [
         "Fiji",
         28
        ],
        [
         "Refugee Olympic Team",
         26
        ],
        [
         "Indonesia",
         26
        ],
        [
         "Honduras",
         25
        ],
        [
         "Uganda",
         24
        ],
        [
         "Singapore",
         23
        ],
        [
         "Guatemala",
         22
        ],
        [
         "Angola",
         20
        ],
        [
         "Republic of Moldova",
         19
        ],
        [
         "Philippines",
         18
        ],
        [
         "Vietnam",
         17
        ],
        [
         "Bahamas",
         16
        ],
        [
         "Armenia",
         16
        ],
        [
         "Kyrgyzstan",
         16
        ],
        [
         "Qatar",
         14
        ],
        [
         "Ghana",
         14
        ],
        [
         "Cyprus",
         14
        ],
        [
         "Eritrea",
         13
        ],
        [
         "Botswana",
         13
        ],
        [
         "Costa Rica",
         13
        ],
        [
         "Jordan",
         11
        ],
        [
         "Uruguay",
         11
        ],
        [
         "Namibia",
         11
        ],
        [
         "Luxembourg",
         11
        ],
        [
         "Cameroon",
         11
        ],
        [
         "Kosovo",
         10
        ],
        [
         "Kuwait",
         10
        ],
        [
         "Pakistan",
         10
        ],
        [
         "Senegal",
         9
        ],
        [
         "Sri Lanka",
         9
        ],
        [
         "Panama",
         9
        ],
        [
         "Paraguay",
         8
        ],
        [
         "Albania",
         8
        ],
        [
         "Nicaragua",
         8
        ],
        [
         "Tajikistan",
         8
        ],
        [
         "Turkmenistan",
         8
        ],
        [
         "Samoa",
         8
        ],
        [
         "North Macedonia",
         8
        ],
        [
         "Mozambique",
         8
        ],
        [
         "Guyana",
         7
        ],
        [
         "Benin",
         7
        ],
        [
         "Niger",
         7
        ],
        [
         "Barbados",
         7
        ],
        [
         "Democratic Republic of the Congo",
         7
        ],
        [
         "Bosnia and Herzegovina",
         7
        ],
        [
         "Papua New Guinea",
         7
        ],
        [
         "Burkina Faso",
         7
        ],
        [
         "Mauritius",
         7
        ],
        [
         "Madagascar",
         6
        ],
        [
         "Malta",
         6
        ],
        [
         "Burundi",
         6
        ],
        [
         "Bangladesh",
         6
        ],
        [
         "Monaco",
         6
        ],
        [
         "Cape Verde",
         6
        ],
        [
         "Grenada",
         6
        ],
        [
         "Cook Islands",
         6
        ],
        [
         "Lebanon",
         6
        ],
        [
         "Antigua and Barbuda",
         6
        ],
        [
         "Haiti",
         6
        ],
        [
         "Syrian Arab Republic",
         6
        ],
        [
         "Tonga",
         5
        ],
        [
         "Malawi",
         5
        ],
        [
         "Afghanistan",
         5
        ],
        [
         "Rwanda",
         5
        ],
        [
         "Sudan",
         5
        ],
        [
         "American Samoa",
         5
        ],
        [
         "Cayman Islands",
         5
        ],
        [
         "Bolivia",
         5
        ],
        [
         "Gabon",
         5
        ],
        [
         "Liechtenstein",
         5
        ],
        [
         "Oman",
         5
        ],
        [
         "Zimbabwe",
         5
        ],
        [
         "Guam",
         5
        ],
        [
         "Saint Lucia",
         5
        ],
        [
         "Guinea",
         5
        ],
        [
         "Seychelles",
         5
        ],
        [
         "Nepal",
         5
        ],
        [
         "El Salvador",
         5
        ],
        [
         "Djibouti",
         4
        ],
        [
         "Iraq",
         4
        ],
        [
         "Maldives",
         4
        ],
        [
         "Togo",
         4
        ],
        [
         "San Marino",
         4
        ],
        [
         "Sierra Leone",
         4
        ],
        [
         "Iceland",
         4
        ],
        [
         "Palestine",
         4
        ],
        [
         "Libya",
         4
        ],
        [
         "Eswatini",
         4
        ],
        [
         "United Arab Emirates",
         4
        ],
        [
         "Lao People's Democratic Republic",
         4
        ],
        [
         "Guinea-Bissau",
         4
        ],
        [
         "Virgin Islands, US",
         4
        ],
        [
         "Mali",
         4
        ],
        [
         "Chad",
         3
        ],
        [
         "Yemen",
         3
        ],
        [
         "Kiribati",
         3
        ],
        [
         "Comoros",
         3
        ],
        [
         "Cambodia",
         3
        ],
        [
         "Palau",
         3
        ],
        [
         "Equatorial Guinea",
         3
        ],
        [
         "Sao Tome and Principe",
         3
        ],
        [
         "Suriname",
         3
        ],
        [
         "Congo",
         3
        ],
        [
         "Bhutan",
         3
        ],
        [
         "Virgin Islands, British",
         3
        ],
        [
         "Aruba",
         3
        ],
        [
         "Federated States of Micronesia",
         3
        ],
        [
         "Liberia",
         3
        ],
        [
         "Belize",
         3
        ],
        [
         "Gambia",
         3
        ],
        [
         "Solomon Islands",
         3
        ],
        [
         "Democratic Republic of Timor-Leste",
         3
        ],
        [
         "Dominica",
         2
        ],
        [
         "Lesotho",
         2
        ],
        [
         "Myanmar",
         2
        ],
        [
         "Brunei Darussalam",
         2
        ],
        [
         "Somalia",
         2
        ],
        [
         "Marshall Islands",
         2
        ],
        [
         "Tuvalu",
         2
        ],
        [
         "United Republic of Tanzania",
         2
        ],
        [
         "Andorra",
         2
        ],
        [
         "St Vincent and the Grenadines",
         2
        ],
        [
         "Mauritania",
         2
        ],
        [
         "Central African Republic",
         2
        ],
        [
         "Nauru",
         2
        ],
        [
         "Saint Kitts and Nevis",
         2
        ],
        [
         "South Sudan",
         2
        ],
        [
         "Bermuda",
         2
        ],
        [
         "Vanuatu",
         2
        ]
       ],
       "datasetInfos": [],
       "dbfsResultPath": null,
       "isJsonSchema": true,
       "metadata": {},
       "overflow": false,
       "plotOptions": {
        "customPlotOptions": {},
        "displayType": "table",
        "pivotAggregation": null,
        "pivotColumns": null,
        "xColumns": null,
        "yColumns": null
       },
       "removedWidgets": [],
       "schema": [
        {
         "metadata": "{}",
         "name": "Country",
         "type": "\"string\""
        },
        {
         "metadata": "{}",
         "name": "number of athletes",
         "type": "\"long\""
        }
       ],
       "type": "table"
      }
     },
     "output_type": "display_data"
    }
   ],
   "source": [
    "# Number of athletes by country\n",
    "quantity_athletes_country = athletes_df.groupBy('Country').count().withColumnRenamed('count', 'number of athletes')\\\n",
    "                    .orderBy('count', ascending=False)\n",
    "display(quantity_athletes_country)"
   ]
  },
  {
   "cell_type": "code",
   "execution_count": 0,
   "metadata": {
    "application/vnd.databricks.v1+cell": {
     "cellMetadata": {
      "byteLimit": 2048000,
      "rowLimit": 10000
     },
     "inputWidgets": {},
     "nuid": "a8c68603-c83b-44e3-b73c-643395930931",
     "showTitle": false,
     "title": ""
    }
   },
   "outputs": [
    {
     "output_type": "display_data",
     "data": {
      "text/html": [
       "<style scoped>\n",
       "  .table-result-container {\n",
       "    max-height: 300px;\n",
       "    overflow: auto;\n",
       "  }\n",
       "  table, th, td {\n",
       "    border: 1px solid black;\n",
       "    border-collapse: collapse;\n",
       "  }\n",
       "  th, td {\n",
       "    padding: 5px;\n",
       "  }\n",
       "  th {\n",
       "    text-align: left;\n",
       "  }\n",
       "</style><div class='table-result-container'><table class='table-result'><thead style='background-color: white'><tr><th>Discipline</th><th>number of women</th></tr></thead><tbody><tr><td>Athletics</td><td>969</td></tr><tr><td>Swimming</td><td>361</td></tr><tr><td>Football</td><td>264</td></tr><tr><td>Rowing</td><td>257</td></tr><tr><td>Judo</td><td>192</td></tr><tr><td>Hockey</td><td>192</td></tr><tr><td>Shooting</td><td>178</td></tr><tr><td>Sailing</td><td>175</td></tr><tr><td>Handball</td><td>168</td></tr><tr><td>Rugby Sevens</td><td>146</td></tr></tbody></table></div>"
      ]
     },
     "metadata": {
      "application/vnd.databricks.v1+output": {
       "addedWidgets": {},
       "aggData": [],
       "aggError": "",
       "aggOverflow": false,
       "aggSchema": [],
       "aggSeriesLimitReached": false,
       "aggType": "",
       "arguments": {},
       "columnCustomDisplayInfos": {},
       "data": [
        [
         "Athletics",
         969
        ],
        [
         "Swimming",
         361
        ],
        [
         "Football",
         264
        ],
        [
         "Rowing",
         257
        ],
        [
         "Judo",
         192
        ],
        [
         "Hockey",
         192
        ],
        [
         "Shooting",
         178
        ],
        [
         "Sailing",
         175
        ],
        [
         "Handball",
         168
        ],
        [
         "Rugby Sevens",
         146
        ]
       ],
       "datasetInfos": [],
       "dbfsResultPath": null,
       "isJsonSchema": true,
       "metadata": {},
       "overflow": false,
       "plotOptions": {
        "customPlotOptions": {},
        "displayType": "table",
        "pivotAggregation": null,
        "pivotColumns": null,
        "xColumns": null,
        "yColumns": null
       },
       "removedWidgets": [],
       "schema": [
        {
         "metadata": "{}",
         "name": "Discipline",
         "type": "\"string\""
        },
        {
         "metadata": "{}",
         "name": "number of women",
         "type": "\"long\""
        }
       ],
       "type": "table"
      }
     },
     "output_type": "display_data"
    }
   ],
   "source": [
    "# Top 10 Olympic discipline with the most number of Female Athletes\n",
    "female_athletes_discipline = entriesgender_df.groupBy('Discipline')\\\n",
    "                                .agg(sum('Female').alias('number of women'))\\\n",
    "                                .orderBy('number of women', ascending=False).limit(10)\n",
    "display(female_athletes_discipline)"
   ]
  },
  {
   "cell_type": "code",
   "execution_count": 0,
   "metadata": {
    "application/vnd.databricks.v1+cell": {
     "cellMetadata": {
      "byteLimit": 2048000,
      "rowLimit": 10000
     },
     "inputWidgets": {},
     "nuid": "8141f37e-1603-40b1-90b2-ecf2d81dc1b8",
     "showTitle": false,
     "title": ""
    }
   },
   "outputs": [
    {
     "output_type": "display_data",
     "data": {
      "text/html": [
       "<style scoped>\n",
       "  .table-result-container {\n",
       "    max-height: 300px;\n",
       "    overflow: auto;\n",
       "  }\n",
       "  table, th, td {\n",
       "    border: 1px solid black;\n",
       "    border-collapse: collapse;\n",
       "  }\n",
       "  th, td {\n",
       "    padding: 5px;\n",
       "  }\n",
       "  th {\n",
       "    text-align: left;\n",
       "  }\n",
       "</style><div class='table-result-container'><table class='table-result'><thead style='background-color: white'><tr><th>Discipline</th><th>number de men</th></tr></thead><tbody><tr><td>Athletics</td><td>1072</td></tr><tr><td>Swimming</td><td>418</td></tr><tr><td>Football</td><td>344</td></tr><tr><td>Rowing</td><td>265</td></tr><tr><td>Judo</td><td>201</td></tr><tr><td>Wrestling</td><td>193</td></tr><tr><td>Hockey</td><td>192</td></tr><tr><td>Boxing</td><td>187</td></tr><tr><td>Shooting</td><td>178</td></tr><tr><td>Sailing</td><td>175</td></tr></tbody></table></div>"
      ]
     },
     "metadata": {
      "application/vnd.databricks.v1+output": {
       "addedWidgets": {},
       "aggData": [],
       "aggError": "",
       "aggOverflow": false,
       "aggSchema": [],
       "aggSeriesLimitReached": false,
       "aggType": "",
       "arguments": {},
       "columnCustomDisplayInfos": {},
       "data": [
        [
         "Athletics",
         1072
        ],
        [
         "Swimming",
         418
        ],
        [
         "Football",
         344
        ],
        [
         "Rowing",
         265
        ],
        [
         "Judo",
         201
        ],
        [
         "Wrestling",
         193
        ],
        [
         "Hockey",
         192
        ],
        [
         "Boxing",
         187
        ],
        [
         "Shooting",
         178
        ],
        [
         "Sailing",
         175
        ]
       ],
       "datasetInfos": [],
       "dbfsResultPath": null,
       "isJsonSchema": true,
       "metadata": {},
       "overflow": false,
       "plotOptions": {
        "customPlotOptions": {},
        "displayType": "table",
        "pivotAggregation": null,
        "pivotColumns": null,
        "xColumns": null,
        "yColumns": null
       },
       "removedWidgets": [],
       "schema": [
        {
         "metadata": "{}",
         "name": "Discipline",
         "type": "\"string\""
        },
        {
         "metadata": "{}",
         "name": "number de men",
         "type": "\"long\""
        }
       ],
       "type": "table"
      }
     },
     "output_type": "display_data"
    }
   ],
   "source": [
    "# Top 10 Olympic discipline with the most number of Male Athletes\n",
    "male_athletes_discipline = entriesgender_df.groupBy('Discipline')\\\n",
    "                            .agg(sum('Male').alias('number de men'))\\\n",
    "                            .orderBy('number de men', ascending=False).limit(10)\n",
    "display(male_athletes_discipline)"
   ]
  }
 ],
 "metadata": {
  "application/vnd.databricks.v1+notebook": {
   "dashboards": [],
   "language": "python",
   "notebookMetadata": {
    "mostRecentlyExecutedCommandWithImplicitDF": {
     "commandId": 3724420622951117,
     "dataframes": [
      "_sqldf"
     ]
    },
    "pythonIndentUnit": 4
   },
   "notebookName": "transformations",
   "widgets": {}
  }
 },
 "nbformat": 4,
 "nbformat_minor": 0
}
